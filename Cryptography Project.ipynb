{
 "cells": [
  {
   "cell_type": "code",
   "execution_count": 1,
   "metadata": {},
   "outputs": [],
   "source": [
    "from cryptography.fernet import Fernet"
   ]
  },
  {
   "cell_type": "code",
   "execution_count": 2,
   "metadata": {},
   "outputs": [],
   "source": [
    "def generateKey():\n",
    "    key = Fernet.generate_key()\n",
    "    print(key)\n",
    "    print(type(key))\n",
    "    abc=open(\"password.key\",\"wb\")\n",
    "    abc.write(key)\n",
    "    abc.close"
   ]
  },
  {
   "cell_type": "code",
   "execution_count": 3,
   "metadata": {},
   "outputs": [
    {
     "name": "stdout",
     "output_type": "stream",
     "text": [
      "b'1LRIVlLpawI8BxFjqYC1ynW4D20y4oZpFNwuiHVL2WQ='\n",
      "<class 'bytes'>\n"
     ]
    }
   ],
   "source": [
    "generateKey()"
   ]
  },
  {
   "cell_type": "code",
   "execution_count": 4,
   "metadata": {},
   "outputs": [],
   "source": [
    "def getKey():\n",
    "    abc= open(\"password.key\",\"rb\")\n",
    "    return abc.read()"
   ]
  },
  {
   "cell_type": "code",
   "execution_count": 5,
   "metadata": {},
   "outputs": [
    {
     "data": {
      "text/plain": [
       "b'1LRIVlLpawI8BxFjqYC1ynW4D20y4oZpFNwuiHVL2WQ='"
      ]
     },
     "execution_count": 5,
     "metadata": {},
     "output_type": "execute_result"
    }
   ],
   "source": [
    "getKey()"
   ]
  },
  {
   "cell_type": "code",
   "execution_count": 6,
   "metadata": {},
   "outputs": [],
   "source": [
    "def encryptMessage(normal_message):\n",
    "    key= getKey()\n",
    "    k= Fernet(key)\n",
    "    encrypted_message= k.encrypt(normal_message)\n",
    "    return encrypted_message"
   ]
  },
  {
   "cell_type": "code",
   "execution_count": 14,
   "metadata": {},
   "outputs": [
    {
     "data": {
      "text/plain": [
       "b'gAAAAABf2egrc5bgXklBcbYZZ2RzMH8ty6XOiGlqtVIeyKLrohV52xs_bA4bVr4i5QF9TcJmTN3GM8DMsi5f0SpYKEwtPdujwg=='"
      ]
     },
     "execution_count": 14,
     "metadata": {},
     "output_type": "execute_result"
    }
   ],
   "source": [
    "encryptMessage(b\"Kalpesh\")"
   ]
  },
  {
   "cell_type": "code",
   "execution_count": 15,
   "metadata": {},
   "outputs": [],
   "source": [
    "def dencryptMessage(normal_secret):\n",
    "    key= getKey()\n",
    "    k= Fernet(key)\n",
    "    dencrypted_message= k.decrypt(normal_secret)\n",
    "    return dencrypted_message"
   ]
  },
  {
   "cell_type": "code",
   "execution_count": 16,
   "metadata": {},
   "outputs": [
    {
     "data": {
      "text/plain": [
       "b'Kalpesh'"
      ]
     },
     "execution_count": 16,
     "metadata": {},
     "output_type": "execute_result"
    }
   ],
   "source": [
    "dencryptMessage(b'gAAAAABf2egrc5bgXklBcbYZZ2RzMH8ty6XOiGlqtVIeyKLrohV52xs_bA4bVr4i5QF9TcJmTN3GM8DMsi5f0SpYKEwtPdujwg==')"
   ]
  },
  {
   "cell_type": "code",
   "execution_count": null,
   "metadata": {},
   "outputs": [],
   "source": []
  }
 ],
 "metadata": {
  "kernelspec": {
   "display_name": "Python 3",
   "language": "python",
   "name": "python3"
  },
  "language_info": {
   "codemirror_mode": {
    "name": "ipython",
    "version": 3
   },
   "file_extension": ".py",
   "mimetype": "text/x-python",
   "name": "python",
   "nbconvert_exporter": "python",
   "pygments_lexer": "ipython3",
   "version": "3.8.5"
  }
 },
 "nbformat": 4,
 "nbformat_minor": 4
}
